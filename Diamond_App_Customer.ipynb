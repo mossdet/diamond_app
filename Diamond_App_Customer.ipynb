{
 "cells": [
  {
   "cell_type": "code",
   "execution_count": 22,
   "id": "ff6f9d4d-15a5-4dda-ad79-72c60301f512",
   "metadata": {},
   "outputs": [],
   "source": [
    "import requests"
   ]
  },
  {
   "cell_type": "code",
   "execution_count": 23,
   "id": "143e528a-e1a1-4ef3-b343-4610e03d4058",
   "metadata": {},
   "outputs": [],
   "source": [
    "url = \"http://192.168.4.20:9696/predict_diamond_cut\"\n",
    "url = \"http://172.30.176.211:9696/predict_diamond_cut\""
   ]
  },
  {
   "cell_type": "code",
   "execution_count": 24,
   "id": "5d528116-bf5f-4e43-9528-72a41ce4d4c8",
   "metadata": {},
   "outputs": [],
   "source": [
    "diamond_data = {\n",
    "    \"carat\":2.5359554421,\n",
    "    \"cut\":000000,\n",
    "    \"color\":-0.8264133957,\n",
    "    \"clarity\":-1.8523350869,\n",
    "    \"depth\":3.5254549522,\n",
    "    \"table\":-0.2046050915,\n",
    "    \"price\":1.035543546,\n",
    "    \"x\":1.8532134098,\n",
    "    \"y\":1.738404844,\n",
    "    \"z\":2.3399238012}"
   ]
  },
  {
   "cell_type": "code",
   "execution_count": 25,
   "id": "83273e21-8470-472d-a57d-020d788ba497",
   "metadata": {},
   "outputs": [
    {
     "data": {
      "text/plain": [
       "{'carat': 2.5359554421,\n",
       " 'cut': 0,\n",
       " 'color': -0.8264133957,\n",
       " 'clarity': -1.8523350869,\n",
       " 'depth': 3.5254549522,\n",
       " 'table': -0.2046050915,\n",
       " 'price': 1.035543546,\n",
       " 'x': 1.8532134098,\n",
       " 'y': 1.738404844,\n",
       " 'z': 2.3399238012}"
      ]
     },
     "execution_count": 25,
     "metadata": {},
     "output_type": "execute_result"
    }
   ],
   "source": [
    "diamond_data"
   ]
  },
  {
   "cell_type": "code",
   "execution_count": 28,
   "id": "c8d3e354-57a1-4fdb-9aff-ea26e9c8364f",
   "metadata": {},
   "outputs": [],
   "source": [
    "diamond_cut_predictions = requests.post(url, json=diamond_data).json()"
   ]
  },
  {
   "cell_type": "code",
   "execution_count": 21,
   "id": "5a1dc4fc-0b14-468b-b4ac-086c6d3f9de7",
   "metadata": {},
   "outputs": [
    {
     "data": {
      "text/plain": [
       "{'DecisionTreeClassifier': ['Fair'],\n",
       " 'KNN_Classifier': ['Fair'],\n",
       " 'LogisticRegressionClassifier': ['Fair'],\n",
       " 'RandomForestClassifier': ['Fair'],\n",
       " 'SupportVectorClassifier': ['Fair'],\n",
       " 'XGBoostClassifier': ['Fair']}"
      ]
     },
     "execution_count": 21,
     "metadata": {},
     "output_type": "execute_result"
    }
   ],
   "source": [
    "diamond_cut_predictions"
   ]
  },
  {
   "cell_type": "code",
   "execution_count": null,
   "id": "dd7d5fc6-ea0b-4f8e-aa6e-794d8ec7377a",
   "metadata": {},
   "outputs": [],
   "source": []
  },
  {
   "cell_type": "code",
   "execution_count": null,
   "id": "b2967482-29db-47e6-b295-a05ab60b128b",
   "metadata": {},
   "outputs": [],
   "source": []
  }
 ],
 "metadata": {
  "kernelspec": {
   "display_name": "Python 3 (ipykernel)",
   "language": "python",
   "name": "python3"
  },
  "language_info": {
   "codemirror_mode": {
    "name": "ipython",
    "version": 3
   },
   "file_extension": ".py",
   "mimetype": "text/x-python",
   "name": "python",
   "nbconvert_exporter": "python",
   "pygments_lexer": "ipython3",
   "version": "3.11.0rc1"
  }
 },
 "nbformat": 4,
 "nbformat_minor": 5
}
